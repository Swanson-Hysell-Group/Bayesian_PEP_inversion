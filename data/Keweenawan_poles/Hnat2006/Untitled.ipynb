{
 "cells": [
  {
   "cell_type": "code",
   "execution_count": 1,
   "metadata": {
    "collapsed": true
   },
   "outputs": [],
   "source": [
    "import pmagpy.ipmag as ipmag\n",
    "import pmagpy.pmag as pmag\n",
    "import pmagpy.pmagplotlib as pmagplotlib\n",
    "\n",
    "import pandas as pd\n",
    "import numpy as np"
   ]
  },
  {
   "cell_type": "code",
   "execution_count": 5,
   "metadata": {
    "collapsed": false
   },
   "outputs": [],
   "source": [
    "Hnat2006 = pd.read_csv('./sites.txt', sep='\\t', skiprows=1)"
   ]
  },
  {
   "cell_type": "code",
   "execution_count": 7,
   "metadata": {
    "collapsed": false
   },
   "outputs": [
    {
     "data": {
      "text/html": [
       "<div>\n",
       "<table border=\"1\" class=\"dataframe\">\n",
       "  <thead>\n",
       "    <tr style=\"text-align: right;\">\n",
       "      <th></th>\n",
       "      <th>citations</th>\n",
       "      <th>dir_alpha95</th>\n",
       "      <th>dir_dec</th>\n",
       "      <th>dir_inc</th>\n",
       "      <th>dir_k</th>\n",
       "      <th>dir_n_samples</th>\n",
       "      <th>dir_polarity</th>\n",
       "      <th>dir_tilt_correction</th>\n",
       "      <th>geologic_classes</th>\n",
       "      <th>geologic_types</th>\n",
       "      <th>lat</th>\n",
       "      <th>lithologies</th>\n",
       "      <th>location</th>\n",
       "      <th>lon</th>\n",
       "      <th>result_type</th>\n",
       "      <th>site</th>\n",
       "      <th>method_codes</th>\n",
       "    </tr>\n",
       "  </thead>\n",
       "  <tbody>\n",
       "    <tr>\n",
       "      <th>0</th>\n",
       "      <td>This study</td>\n",
       "      <td>7.8</td>\n",
       "      <td>302.8</td>\n",
       "      <td>40.8</td>\n",
       "      <td>51.9</td>\n",
       "      <td>8</td>\n",
       "      <td>n</td>\n",
       "      <td>100</td>\n",
       "      <td>Extrusive</td>\n",
       "      <td>Lava Flow</td>\n",
       "      <td>47.28</td>\n",
       "      <td>Basalt</td>\n",
       "      <td>Keweenaw Peninsula</td>\n",
       "      <td>-88.41</td>\n",
       "      <td>i</td>\n",
       "      <td>H_PL01</td>\n",
       "      <td>LT-T-Z</td>\n",
       "    </tr>\n",
       "    <tr>\n",
       "      <th>1</th>\n",
       "      <td>This study</td>\n",
       "      <td>11.8</td>\n",
       "      <td>291.5</td>\n",
       "      <td>32.3</td>\n",
       "      <td>23.2</td>\n",
       "      <td>8</td>\n",
       "      <td>n</td>\n",
       "      <td>100</td>\n",
       "      <td>Extrusive</td>\n",
       "      <td>Lava Flow</td>\n",
       "      <td>47.30</td>\n",
       "      <td>Basalt</td>\n",
       "      <td>Keweenaw Peninsula</td>\n",
       "      <td>-88.40</td>\n",
       "      <td>i</td>\n",
       "      <td>H_PL02</td>\n",
       "      <td>LT-T-Z</td>\n",
       "    </tr>\n",
       "    <tr>\n",
       "      <th>2</th>\n",
       "      <td>This study</td>\n",
       "      <td>7.0</td>\n",
       "      <td>274.3</td>\n",
       "      <td>45.7</td>\n",
       "      <td>63.4</td>\n",
       "      <td>8</td>\n",
       "      <td>n</td>\n",
       "      <td>100</td>\n",
       "      <td>Extrusive</td>\n",
       "      <td>Lava Flow</td>\n",
       "      <td>47.31</td>\n",
       "      <td>Basalt</td>\n",
       "      <td>Keweenaw Peninsula</td>\n",
       "      <td>-88.38</td>\n",
       "      <td>i</td>\n",
       "      <td>H_PL03</td>\n",
       "      <td>LT-T-Z</td>\n",
       "    </tr>\n",
       "    <tr>\n",
       "      <th>3</th>\n",
       "      <td>This study</td>\n",
       "      <td>10.4</td>\n",
       "      <td>270.3</td>\n",
       "      <td>26.7</td>\n",
       "      <td>34.7</td>\n",
       "      <td>7</td>\n",
       "      <td>n</td>\n",
       "      <td>100</td>\n",
       "      <td>Extrusive</td>\n",
       "      <td>Lava Flow</td>\n",
       "      <td>47.31</td>\n",
       "      <td>Basalt</td>\n",
       "      <td>Keweenaw Peninsula</td>\n",
       "      <td>-88.38</td>\n",
       "      <td>i</td>\n",
       "      <td>H_PL04</td>\n",
       "      <td>LT-T-Z</td>\n",
       "    </tr>\n",
       "    <tr>\n",
       "      <th>4</th>\n",
       "      <td>This study</td>\n",
       "      <td>15.7</td>\n",
       "      <td>298.2</td>\n",
       "      <td>32.3</td>\n",
       "      <td>19.3</td>\n",
       "      <td>6</td>\n",
       "      <td>n</td>\n",
       "      <td>100</td>\n",
       "      <td>Extrusive</td>\n",
       "      <td>Lava Flow</td>\n",
       "      <td>47.32</td>\n",
       "      <td>Basalt</td>\n",
       "      <td>Keweenaw Peninsula</td>\n",
       "      <td>-88.38</td>\n",
       "      <td>i</td>\n",
       "      <td>H_PL05</td>\n",
       "      <td>LT-T-Z</td>\n",
       "    </tr>\n",
       "  </tbody>\n",
       "</table>\n",
       "</div>"
      ],
      "text/plain": [
       "    citations  dir_alpha95  dir_dec  dir_inc  dir_k  dir_n_samples  \\\n",
       "0  This study          7.8    302.8     40.8   51.9              8   \n",
       "1  This study         11.8    291.5     32.3   23.2              8   \n",
       "2  This study          7.0    274.3     45.7   63.4              8   \n",
       "3  This study         10.4    270.3     26.7   34.7              7   \n",
       "4  This study         15.7    298.2     32.3   19.3              6   \n",
       "\n",
       "  dir_polarity  dir_tilt_correction geologic_classes geologic_types    lat  \\\n",
       "0            n                  100        Extrusive      Lava Flow  47.28   \n",
       "1            n                  100        Extrusive      Lava Flow  47.30   \n",
       "2            n                  100        Extrusive      Lava Flow  47.31   \n",
       "3            n                  100        Extrusive      Lava Flow  47.31   \n",
       "4            n                  100        Extrusive      Lava Flow  47.32   \n",
       "\n",
       "  lithologies            location    lon result_type    site method_codes  \n",
       "0      Basalt  Keweenaw Peninsula -88.41           i  H_PL01       LT-T-Z  \n",
       "1      Basalt  Keweenaw Peninsula -88.40           i  H_PL02       LT-T-Z  \n",
       "2      Basalt  Keweenaw Peninsula -88.38           i  H_PL03       LT-T-Z  \n",
       "3      Basalt  Keweenaw Peninsula -88.38           i  H_PL04       LT-T-Z  \n",
       "4      Basalt  Keweenaw Peninsula -88.38           i  H_PL05       LT-T-Z  "
      ]
     },
     "execution_count": 7,
     "metadata": {},
     "output_type": "execute_result"
    }
   ],
   "source": [
    "Hnat2006.head()"
   ]
  },
  {
   "cell_type": "code",
   "execution_count": 8,
   "metadata": {
    "collapsed": true
   },
   "outputs": [],
   "source": [
    "ipmag.vgp_calc(Hnat2006, site_lon='lon', site_lat='lat', dec_tc='dir_dec', inc_tc='dir_inc')"
   ]
  },
  {
   "cell_type": "code",
   "execution_count": 10,
   "metadata": {
    "collapsed": false
   },
   "outputs": [],
   "source": [
    "Hnat2006.to_csv('./Hnat_vgp_calc.csv')"
   ]
  },
  {
   "cell_type": "code",
   "execution_count": null,
   "metadata": {
    "collapsed": true
   },
   "outputs": [],
   "source": []
  }
 ],
 "metadata": {
  "hide_input": false,
  "kernelspec": {
   "display_name": "Python 2",
   "language": "python",
   "name": "python2"
  },
  "language_info": {
   "codemirror_mode": {
    "name": "ipython",
    "version": 2
   },
   "file_extension": ".py",
   "mimetype": "text/x-python",
   "name": "python",
   "nbconvert_exporter": "python",
   "pygments_lexer": "ipython2",
   "version": "2.7.13"
  }
 },
 "nbformat": 4,
 "nbformat_minor": 2
}
