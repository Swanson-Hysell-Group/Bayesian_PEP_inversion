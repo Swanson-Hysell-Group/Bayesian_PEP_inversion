{
 "cells": [
  {
   "cell_type": "code",
   "execution_count": null,
   "id": "0120c48b-5e94-4892-ba01-eb38a5bc8b1c",
   "metadata": {},
   "outputs": [],
   "source": []
  }
 ],
 "metadata": {
  "kernelspec": {
   "display_name": "Python [conda env:pymc3_env]",
   "language": "python",
   "name": "conda-env-pymc3_env-py"
  },
  "language_info": {
   "codemirror_mode": {
    "name": "ipython",
    "version": 3
   },
   "file_extension": ".py",
   "mimetype": "text/x-python",
   "name": "python",
   "nbconvert_exporter": "python",
   "pygments_lexer": "ipython3",
   "version": "3.9.7"
  }
 },
 "nbformat": 4,
 "nbformat_minor": 5
}
